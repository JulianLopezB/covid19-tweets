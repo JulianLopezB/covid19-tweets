{
 "cells": [
  {
   "cell_type": "code",
   "execution_count": 1,
   "metadata": {},
   "outputs": [],
   "source": [
    "%reload_ext autoreload\n",
    "%autoreload 2"
   ]
  },
  {
   "cell_type": "code",
   "execution_count": 20,
   "metadata": {},
   "outputs": [
    {
     "name": "stdout",
     "output_type": "stream",
     "text": [
      "\n"
     ]
    }
   ],
   "source": [
    "from pathlib import Path\n",
    "import os\n",
    "import pandas as pd"
   ]
  },
  {
   "cell_type": "markdown",
   "metadata": {},
   "source": [
    "## Using Kaggle API to download datasets\n",
    "\n",
    "This notebook is intended to provide a detailed guide with the necessary steps to download the Covid-19 tweets [dataset](https://www.kaggle.com/smid80/coronavirus-covid19-tweets) from Kaggle using their API. Although the simple way would be to get it from the website, sometimes it can be usefull to have an automated process for downloading datasets, specially if they are updated on a regular basis.\n",
    "\n",
    "Credits to [fast.ai](https://github.com/fastai/course-v3/blob/master/nbs/dl1/lesson3-planet.ipynb)"
   ]
  },
  {
   "cell_type": "markdown",
   "metadata": {},
   "source": [
    "1) First, we install the necessary libraries by running the following lines"
   ]
  },
  {
   "cell_type": "code",
   "execution_count": 6,
   "metadata": {},
   "outputs": [
    {
     "name": "stdout",
     "output_type": "stream",
     "text": [
      "Requirement already up-to-date: kaggle in /Users/julian/opt/anaconda3/lib/python3.7/site-packages (1.5.6)\n",
      "Requirement already satisfied, skipping upgrade: requests in /Users/julian/opt/anaconda3/lib/python3.7/site-packages (from kaggle) (2.22.0)\n",
      "Requirement already satisfied, skipping upgrade: python-dateutil in /Users/julian/opt/anaconda3/lib/python3.7/site-packages (from kaggle) (2.8.0)\n",
      "Requirement already satisfied, skipping upgrade: urllib3<1.25,>=1.21.1 in /Users/julian/opt/anaconda3/lib/python3.7/site-packages (from kaggle) (1.24.2)\n",
      "Requirement already satisfied, skipping upgrade: six>=1.10 in /Users/julian/opt/anaconda3/lib/python3.7/site-packages (from kaggle) (1.12.0)\n",
      "Requirement already satisfied, skipping upgrade: python-slugify in /Users/julian/opt/anaconda3/lib/python3.7/site-packages (from kaggle) (4.0.0)\n",
      "Requirement already satisfied, skipping upgrade: tqdm in /Users/julian/opt/anaconda3/lib/python3.7/site-packages (from kaggle) (4.42.0)\n",
      "Requirement already satisfied, skipping upgrade: certifi in /Users/julian/opt/anaconda3/lib/python3.7/site-packages (from kaggle) (2019.9.11)\n",
      "Requirement already satisfied, skipping upgrade: chardet<3.1.0,>=3.0.2 in /Users/julian/opt/anaconda3/lib/python3.7/site-packages (from requests->kaggle) (3.0.4)\n",
      "Requirement already satisfied, skipping upgrade: idna<2.9,>=2.5 in /Users/julian/opt/anaconda3/lib/python3.7/site-packages (from requests->kaggle) (2.8)\n",
      "Requirement already satisfied, skipping upgrade: text-unidecode>=1.3 in /Users/julian/opt/anaconda3/lib/python3.7/site-packages (from python-slugify->kaggle) (1.3)\n",
      "\u001b[33mWARNING: You are using pip version 20.0.2; however, version 20.1.1 is available.\n",
      "You should consider upgrading via the '/Users/julian/opt/anaconda3/bin/python -m pip install --upgrade pip' command.\u001b[0m\n"
     ]
    }
   ],
   "source": [
    "! pip install kaggle --upgrade\n",
    "! pip install tqdm"
   ]
  },
  {
   "cell_type": "markdown",
   "metadata": {},
   "source": [
    "2) Then we need to upload our Kaggle credentials to our workspace. Go to the site \n",
    "https://www.kaggle.com/YOURUSERNAME/account . Scroll down until you find a button named 'Create New API Token' and click on it. This will trigger the download of a file named 'kaggle.json'.\n",
    "\n",
    "Upload this file to the directory this notebook is running in, by clicking \"Upload\" on your main Jupyter page, then uncomment and execute the next two lines."
   ]
  },
  {
   "cell_type": "code",
   "execution_count": 4,
   "metadata": {},
   "outputs": [
    {
     "name": "stdout",
     "output_type": "stream",
     "text": [
      "mv: kaggle.json: No such file or directory\r\n"
     ]
    }
   ],
   "source": [
    "! mkdir -p ~/.kaggle/ \n",
    "! mv kaggle.json ~/.kaggle/"
   ]
  },
  {
   "cell_type": "markdown",
   "metadata": {},
   "source": [
    "3) We define a data-path and download the data"
   ]
  },
  {
   "cell_type": "code",
   "execution_count": 13,
   "metadata": {},
   "outputs": [
    {
     "name": "stdout",
     "output_type": "stream",
     "text": [
      "Warning: Your Kaggle API key is readable by other users on this system! To fix this, you can run 'chmod 600 /Users/julian/.kaggle/kaggle.json'\n",
      "coronavirus-covid19-tweets.zip: Skipping, found more recently modified local copy (use --force to force download)\n",
      "Warning: Your Kaggle API key is readable by other users on this system! To fix this, you can run 'chmod 600 /Users/julian/.kaggle/kaggle.json'\n",
      "coronavirus-covid19-tweets-early-april.zip: Skipping, found more recently modified local copy (use --force to force download)\n",
      "Warning: Your Kaggle API key is readable by other users on this system! To fix this, you can run 'chmod 600 /Users/julian/.kaggle/kaggle.json'\n",
      "coronavirus-covid19-tweets-late-april.zip: Skipping, found more recently modified local copy (use --force to force download)\n"
     ]
    }
   ],
   "source": [
    "path = Path('data')\n",
    "path.mkdir(parents=True, exist_ok=True)\n",
    "\n",
    "datasets = ['coronavirus-covid19-tweets',\n",
    "           'coronavirus-covid19-tweets-early-april',\n",
    "           'coronavirus-covid19-tweets-late-april']\n",
    "\n",
    "for dataset in datasets:\n",
    "    !kaggle datasets download smid80/$dataset"
   ]
  },
  {
   "cell_type": "markdown",
   "metadata": {},
   "source": [
    "4) We unzip the files"
   ]
  },
  {
   "cell_type": "code",
   "execution_count": null,
   "metadata": {},
   "outputs": [],
   "source": [
    "! unzip -q -n coronavirus-covid19-tweets-early-april.zip -d $path\n",
    "! unzip -q -n coronavirus-covid19-tweets-late-april.zip -d $path"
   ]
  },
  {
   "cell_type": "markdown",
   "metadata": {},
   "source": [
    "5) We load all the data as a dataframe"
   ]
  },
  {
   "cell_type": "code",
   "execution_count": 21,
   "metadata": {},
   "outputs": [
    {
     "name": "stderr",
     "output_type": "stream",
     "text": [
      "/Users/julian/opt/anaconda3/lib/python3.7/site-packages/ipykernel_launcher.py:4: TqdmDeprecationWarning: This function will be removed in tqdm==5.0.0\n",
      "Please use `tqdm.notebook.tqdm` instead of `tqdm.tqdm_notebook`\n",
      "  after removing the cwd from sys.path.\n"
     ]
    },
    {
     "data": {
      "application/vnd.jupyter.widget-view+json": {
       "model_id": "da14e436158b451096cc53b37d82cb2d",
       "version_major": 2,
       "version_minor": 0
      },
      "text/plain": [
       "HBox(children=(FloatProgress(value=0.0, max=54.0), HTML(value='')))"
      ]
     },
     "metadata": {},
     "output_type": "display_data"
    },
    {
     "name": "stdout",
     "output_type": "stream",
     "text": [
      "\n"
     ]
    }
   ],
   "source": [
    "import tqdm\n",
    "\n",
    "list_files = []\n",
    "\n",
    "for dirname, _, filenames in os.walk(path):\n",
    "    for filename in tqdm(filenames):\n",
    "        if 'Coronavirus Tweets' in filename:\n",
    "            df = pd.read_csv(os.path.join(dirname, filename), index_col=None, header=0)\n",
    "            list_files.append(df)"
   ]
  },
  {
   "cell_type": "code",
   "execution_count": 23,
   "metadata": {},
   "outputs": [
    {
     "data": {
      "text/html": [
       "<div>\n",
       "<style scoped>\n",
       "    .dataframe tbody tr th:only-of-type {\n",
       "        vertical-align: middle;\n",
       "    }\n",
       "\n",
       "    .dataframe tbody tr th {\n",
       "        vertical-align: top;\n",
       "    }\n",
       "\n",
       "    .dataframe thead th {\n",
       "        text-align: right;\n",
       "    }\n",
       "</style>\n",
       "<table border=\"1\" class=\"dataframe\">\n",
       "  <thead>\n",
       "    <tr style=\"text-align: right;\">\n",
       "      <th></th>\n",
       "      <th>status_id</th>\n",
       "      <th>user_id</th>\n",
       "      <th>created_at</th>\n",
       "      <th>screen_name</th>\n",
       "      <th>text</th>\n",
       "      <th>source</th>\n",
       "      <th>reply_to_status_id</th>\n",
       "      <th>reply_to_user_id</th>\n",
       "      <th>reply_to_screen_name</th>\n",
       "      <th>is_quote</th>\n",
       "      <th>...</th>\n",
       "      <th>retweet_count</th>\n",
       "      <th>country_code</th>\n",
       "      <th>place_full_name</th>\n",
       "      <th>place_type</th>\n",
       "      <th>followers_count</th>\n",
       "      <th>friends_count</th>\n",
       "      <th>account_lang</th>\n",
       "      <th>account_created_at</th>\n",
       "      <th>verified</th>\n",
       "      <th>lang</th>\n",
       "    </tr>\n",
       "  </thead>\n",
       "  <tbody>\n",
       "    <tr>\n",
       "      <th>0</th>\n",
       "      <td>1250937015840804864</td>\n",
       "      <td>544900497</td>\n",
       "      <td>2020-04-17T00:00:00Z</td>\n",
       "      <td>_wheresmymojo</td>\n",
       "      <td>Math Formulas And Numbers On Blackboard Cloth ...</td>\n",
       "      <td>TweetDeck</td>\n",
       "      <td>NaN</td>\n",
       "      <td>NaN</td>\n",
       "      <td>NaN</td>\n",
       "      <td>False</td>\n",
       "      <td>...</td>\n",
       "      <td>0</td>\n",
       "      <td>NaN</td>\n",
       "      <td>NaN</td>\n",
       "      <td>NaN</td>\n",
       "      <td>406</td>\n",
       "      <td>271</td>\n",
       "      <td>NaN</td>\n",
       "      <td>2012-04-04T03:52:50Z</td>\n",
       "      <td>False</td>\n",
       "      <td>en</td>\n",
       "    </tr>\n",
       "    <tr>\n",
       "      <th>1</th>\n",
       "      <td>1250937015744581634</td>\n",
       "      <td>127591568</td>\n",
       "      <td>2020-04-17T00:00:00Z</td>\n",
       "      <td>Huauchifm</td>\n",
       "      <td>🎯#Ahora te traemos la rueda de prensa del @Gob...</td>\n",
       "      <td>TweetDeck</td>\n",
       "      <td>NaN</td>\n",
       "      <td>NaN</td>\n",
       "      <td>NaN</td>\n",
       "      <td>False</td>\n",
       "      <td>...</td>\n",
       "      <td>0</td>\n",
       "      <td>NaN</td>\n",
       "      <td>NaN</td>\n",
       "      <td>NaN</td>\n",
       "      <td>1530</td>\n",
       "      <td>861</td>\n",
       "      <td>NaN</td>\n",
       "      <td>2010-03-29T17:54:07Z</td>\n",
       "      <td>False</td>\n",
       "      <td>es</td>\n",
       "    </tr>\n",
       "    <tr>\n",
       "      <th>2</th>\n",
       "      <td>1250937016428032002</td>\n",
       "      <td>127599939</td>\n",
       "      <td>2020-04-17T00:00:00Z</td>\n",
       "      <td>ZacatlanFM</td>\n",
       "      <td>🎯#Ahora te traemos la rueda de prensa del @Gob...</td>\n",
       "      <td>TweetDeck</td>\n",
       "      <td>NaN</td>\n",
       "      <td>NaN</td>\n",
       "      <td>NaN</td>\n",
       "      <td>False</td>\n",
       "      <td>...</td>\n",
       "      <td>0</td>\n",
       "      <td>NaN</td>\n",
       "      <td>NaN</td>\n",
       "      <td>NaN</td>\n",
       "      <td>2000</td>\n",
       "      <td>1416</td>\n",
       "      <td>NaN</td>\n",
       "      <td>2010-03-29T18:14:44Z</td>\n",
       "      <td>False</td>\n",
       "      <td>es</td>\n",
       "    </tr>\n",
       "    <tr>\n",
       "      <th>3</th>\n",
       "      <td>1250937015572414464</td>\n",
       "      <td>128124996</td>\n",
       "      <td>2020-04-17T00:00:00Z</td>\n",
       "      <td>Izucar_fm</td>\n",
       "      <td>🎯#Ahora te traemos la rueda de prensa del @Gob...</td>\n",
       "      <td>TweetDeck</td>\n",
       "      <td>NaN</td>\n",
       "      <td>NaN</td>\n",
       "      <td>NaN</td>\n",
       "      <td>False</td>\n",
       "      <td>...</td>\n",
       "      <td>0</td>\n",
       "      <td>NaN</td>\n",
       "      <td>NaN</td>\n",
       "      <td>NaN</td>\n",
       "      <td>1153</td>\n",
       "      <td>167</td>\n",
       "      <td>NaN</td>\n",
       "      <td>2010-03-31T04:56:31Z</td>\n",
       "      <td>False</td>\n",
       "      <td>es</td>\n",
       "    </tr>\n",
       "    <tr>\n",
       "      <th>4</th>\n",
       "      <td>1250937015002152961</td>\n",
       "      <td>314210521</td>\n",
       "      <td>2020-04-17T00:00:00Z</td>\n",
       "      <td>TehuacanFM</td>\n",
       "      <td>🎯#Ahora te traemos la rueda de prensa del @Gob...</td>\n",
       "      <td>TweetDeck</td>\n",
       "      <td>NaN</td>\n",
       "      <td>NaN</td>\n",
       "      <td>NaN</td>\n",
       "      <td>False</td>\n",
       "      <td>...</td>\n",
       "      <td>0</td>\n",
       "      <td>NaN</td>\n",
       "      <td>NaN</td>\n",
       "      <td>NaN</td>\n",
       "      <td>2199</td>\n",
       "      <td>114</td>\n",
       "      <td>NaN</td>\n",
       "      <td>2011-06-09T21:58:36Z</td>\n",
       "      <td>False</td>\n",
       "      <td>es</td>\n",
       "    </tr>\n",
       "  </tbody>\n",
       "</table>\n",
       "<p>5 rows × 22 columns</p>\n",
       "</div>"
      ],
      "text/plain": [
       "             status_id    user_id            created_at    screen_name  \\\n",
       "0  1250937015840804864  544900497  2020-04-17T00:00:00Z  _wheresmymojo   \n",
       "1  1250937015744581634  127591568  2020-04-17T00:00:00Z      Huauchifm   \n",
       "2  1250937016428032002  127599939  2020-04-17T00:00:00Z     ZacatlanFM   \n",
       "3  1250937015572414464  128124996  2020-04-17T00:00:00Z      Izucar_fm   \n",
       "4  1250937015002152961  314210521  2020-04-17T00:00:00Z     TehuacanFM   \n",
       "\n",
       "                                                text     source  \\\n",
       "0  Math Formulas And Numbers On Blackboard Cloth ...  TweetDeck   \n",
       "1  🎯#Ahora te traemos la rueda de prensa del @Gob...  TweetDeck   \n",
       "2  🎯#Ahora te traemos la rueda de prensa del @Gob...  TweetDeck   \n",
       "3  🎯#Ahora te traemos la rueda de prensa del @Gob...  TweetDeck   \n",
       "4  🎯#Ahora te traemos la rueda de prensa del @Gob...  TweetDeck   \n",
       "\n",
       "   reply_to_status_id  reply_to_user_id reply_to_screen_name  is_quote  ...  \\\n",
       "0                 NaN               NaN                  NaN     False  ...   \n",
       "1                 NaN               NaN                  NaN     False  ...   \n",
       "2                 NaN               NaN                  NaN     False  ...   \n",
       "3                 NaN               NaN                  NaN     False  ...   \n",
       "4                 NaN               NaN                  NaN     False  ...   \n",
       "\n",
       "   retweet_count  country_code  place_full_name place_type followers_count  \\\n",
       "0              0           NaN              NaN        NaN             406   \n",
       "1              0           NaN              NaN        NaN            1530   \n",
       "2              0           NaN              NaN        NaN            2000   \n",
       "3              0           NaN              NaN        NaN            1153   \n",
       "4              0           NaN              NaN        NaN            2199   \n",
       "\n",
       "  friends_count  account_lang    account_created_at  verified lang  \n",
       "0           271           NaN  2012-04-04T03:52:50Z     False   en  \n",
       "1           861           NaN  2010-03-29T17:54:07Z     False   es  \n",
       "2          1416           NaN  2010-03-29T18:14:44Z     False   es  \n",
       "3           167           NaN  2010-03-31T04:56:31Z     False   es  \n",
       "4           114           NaN  2011-06-09T21:58:36Z     False   es  \n",
       "\n",
       "[5 rows x 22 columns]"
      ]
     },
     "execution_count": 23,
     "metadata": {},
     "output_type": "execute_result"
    }
   ],
   "source": [
    "df = pd.concat(list_files, axis=0, ignore_index=True)\n",
    "df.head()"
   ]
  },
  {
   "cell_type": "code",
   "execution_count": null,
   "metadata": {},
   "outputs": [],
   "source": []
  }
 ],
 "metadata": {
  "kernelspec": {
   "display_name": "Python 3",
   "language": "python",
   "name": "python3"
  },
  "language_info": {
   "codemirror_mode": {
    "name": "ipython",
    "version": 3
   },
   "file_extension": ".py",
   "mimetype": "text/x-python",
   "name": "python",
   "nbconvert_exporter": "python",
   "pygments_lexer": "ipython3",
   "version": "3.7.4"
  }
 },
 "nbformat": 4,
 "nbformat_minor": 2
}
